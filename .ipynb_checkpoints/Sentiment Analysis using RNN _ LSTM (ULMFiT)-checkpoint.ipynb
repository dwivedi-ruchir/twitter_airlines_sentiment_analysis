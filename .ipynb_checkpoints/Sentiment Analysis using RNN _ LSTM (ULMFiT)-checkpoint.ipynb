{
 "cells": [
  {
   "cell_type": "markdown",
   "metadata": {
    "_uuid": "8f4ba61032210e7c6c38d1e10b2945d3f7ff5f6d"
   },
   "source": [
    "# Twitter Airline Sentiment Analysis (ULMFiT)"
   ]
  },
  {
   "cell_type": "markdown",
   "metadata": {
    "_uuid": "002138cc3d30e60595f6fdd0249b5274f69645d4"
   },
   "source": [
    "## Introduction"
   ]
  },
  {
   "cell_type": "markdown",
   "metadata": {
    "_uuid": "db8eaed4bba95cbf0d6e51e4af3fab888dec6867"
   },
   "source": [
    "This notebook explores the [Twitter US Airline Sentiment Dataset](https://www.kaggle.com/crowdflower/twitter-airline-sentiment) and tries to predict tweet sentiment using a language model and RNN via Fast.ai's library for Universal Language Model Fine-tuning for Text Classification ([ULMFiT](http://nlp.fast.ai/classification/2018/05/15/introducting-ulmfit.html))."
   ]
  },
  {
   "cell_type": "markdown",
   "metadata": {
    "_uuid": "ae1c4edfe924fc366ebfc7d7338434f18b948296"
   },
   "source": [
    "## Setup"
   ]
  },
  {
   "cell_type": "markdown",
   "metadata": {
    "_uuid": "e0893914ffed12ac6308cb6bfbfe8dc177ebada5"
   },
   "source": [
    "Importing packages."
   ]
  },
  {
   "cell_type": "code",
   "execution_count": null,
   "metadata": {
    "_uuid": "faca2bd9f6756ed19bd12d69d68f997a272f3169"
   },
   "outputs": [],
   "source": [
    "# Basic packages\n",
    "import pandas as pd \n",
    "import numpy as np\n",
    "import re\n",
    "import collections\n",
    "import matplotlib.pyplot as plt\n",
    "\n",
    "# Modeling, selection, and evaluation\n",
    "from fastai.text import *\n",
    "from sklearn.model_selection import train_test_split\n",
    "from sklearn.metrics import confusion_matrix, accuracy_score\n",
    "from sklearn.utils.multiclass import unique_labels\n",
    "\n",
    "%matplotlib inline "
   ]
  },
  {
   "cell_type": "markdown",
   "metadata": {
    "_uuid": "5f7a8fe5ae9344468d4882136f2d9ce46006397e"
   },
   "source": [
    "## Data Preparation"
   ]
  },
  {
   "cell_type": "markdown",
   "metadata": {
    "_uuid": "a3eb5a1294773d7aa1a72fd7979c625d53fedce2"
   },
   "source": [
    "First we read in the data and have a look at the columns we can use and explore. "
   ]
  },
  {
   "cell_type": "code",
   "execution_count": null,
   "metadata": {
    "_uuid": "47254dc4d6b6dc5d49438ee45aa91f4327922f6c"
   },
   "outputs": [],
   "source": [
    "# Read file into dataframe\n",
    "pd.set_option('display.max_colwidth', -1)\n",
    "df = pd.read_csv('../input/Tweets.csv')\n",
    "df = df.reindex(np.random.permutation(df.index))  \n",
    "df.head()"
   ]
  },
  {
   "cell_type": "markdown",
   "metadata": {
    "_uuid": "8cede8e8c36c138ec54636d12e3d052be9616f35"
   },
   "source": [
    "Next we look at the distribution of the main dependent variable: airline_sentiment, and its breakdown across airlines and tweet length. "
   ]
  },
  {
   "cell_type": "code",
   "execution_count": null,
   "metadata": {
    "_uuid": "d6297e30091968d61aad648007f558f016643ac2"
   },
   "outputs": [],
   "source": [
    "df['airline_sentiment'].value_counts().plot(kind='bar')"
   ]
  },
  {
   "cell_type": "code",
   "execution_count": null,
   "metadata": {
    "_uuid": "2b1187ba0c78ee9c724d1debef911e8f92d12077"
   },
   "outputs": [],
   "source": [
    "df['airline'].value_counts().plot(kind='bar')"
   ]
  },
  {
   "cell_type": "code",
   "execution_count": null,
   "metadata": {
    "_uuid": "76ee0fbd2697f44de81cc6000939792a0ad290dd"
   },
   "outputs": [],
   "source": [
    "df.groupby(['airline', 'airline_sentiment']).size().unstack().plot(kind='bar', stacked=True)"
   ]
  },
  {
   "cell_type": "code",
   "execution_count": null,
   "metadata": {
    "_uuid": "20599ba5c6b31a7e2cb04310e0fb2180c18de84e"
   },
   "outputs": [],
   "source": [
    "df['tweet_length'] = df['text'].apply(len)\n",
    "df.groupby(['tweet_length', 'airline_sentiment']).size().unstack().plot(kind='line', stacked=False)"
   ]
  },
  {
   "cell_type": "markdown",
   "metadata": {
    "_uuid": "e2dc85e6cfe1af4c8b94616d2b9dfee34cabd3d0"
   },
   "source": [
    "We see that there isn't a lot of correlation between the number of positive / neutral tweets and the tweet length, but for negative tweets the distribution is heavily skewed towards longer tweets. This is possibly because the angier the tweeter, the more they have to say. Next we'll see if the same observation can be made about the average and median sentiment confidence as well."
   ]
  },
  {
   "cell_type": "code",
   "execution_count": null,
   "metadata": {
    "_uuid": "eab6234411542ec97b96a1e726db583081ad5798"
   },
   "outputs": [],
   "source": [
    "df[['tweet_length', 'airline_sentiment', 'airline_sentiment_confidence']].groupby(['tweet_length', 'airline_sentiment']).mean().unstack().plot(kind='line', stacked=False)"
   ]
  },
  {
   "cell_type": "code",
   "execution_count": null,
   "metadata": {
    "_uuid": "f40c6280580908146eb1cf3c074dd25641cdccb6"
   },
   "outputs": [],
   "source": [
    "df[['tweet_length', 'airline_sentiment', 'airline_sentiment_confidence']].groupby(['tweet_length', 'airline_sentiment']).median().unstack().plot(kind='line', stacked=False)"
   ]
  },
  {
   "cell_type": "markdown",
   "metadata": {
    "_uuid": "c19f751ac9586379cab76159922bb1e6d117ce12"
   },
   "source": [
    "There doesn't seem to be a discernable relationship between the confidence and the tweet length. Next we randomize and split the data, then write to CSVs. "
   ]
  },
  {
   "cell_type": "code",
   "execution_count": null,
   "metadata": {
    "_uuid": "5593b67c25038a885338cfacc3bc0db2faa59d5b"
   },
   "outputs": [],
   "source": [
    "test_percentage = 0.1\n",
    "df.sort_index(inplace=True)\n",
    "cutoff = int(test_percentage * df.shape[0])\n",
    "df[['airline_sentiment', 'text']][:cutoff].to_csv('Tweets_filtered_test.csv', index=False, encoding='utf-8')\n",
    "df[['airline_sentiment', 'text']][cutoff:].to_csv('Tweets_filtered_train.csv', index=False, encoding='utf-8')\n",
    "df[['text']][cutoff:].to_csv('Tweets_text_only_train.csv', index=False, encoding='utf-8')"
   ]
  },
  {
   "cell_type": "markdown",
   "metadata": {
    "_uuid": "749aad8c97cda59ca3d5cc6e1109c11fba226f03"
   },
   "source": [
    "### Tokenization"
   ]
  },
  {
   "cell_type": "markdown",
   "metadata": {
    "_uuid": "c4b5c501b1635e1dbe2e998094adf94432cef679"
   },
   "source": [
    "We read in the data and add new words to our dictionary, as well as create a representation of words using numbers. "
   ]
  },
  {
   "cell_type": "code",
   "execution_count": null,
   "metadata": {
    "_uuid": "eadc113d34dcec35521146b95b876a895f486d3e"
   },
   "outputs": [],
   "source": [
    "data = TextClasDataBunch.from_csv('.', 'Tweets_filtered_train.csv')\n",
    "data.show_batch()"
   ]
  },
  {
   "cell_type": "markdown",
   "metadata": {
    "_uuid": "790136e685728d6f28086cfcb7ef3bb93c6e6840"
   },
   "source": [
    "The following changes have been made to the text for ease of modeling:\n",
    "- split on space and punctuation symbols\n",
    "- the \"'s\" are grouped together in one token\n",
    "- the contractions are separated like this: \"did\", \"n't\"\n",
    "- there are several special tokens (all those that begin by xx), to replace unknown tokens (see below)"
   ]
  },
  {
   "cell_type": "code",
   "execution_count": null,
   "metadata": {
    "_uuid": "59520bc3f7302e8556a2e5df45f36f0d5c250632"
   },
   "outputs": [],
   "source": [
    "data.vocab.itos[:10]"
   ]
  },
  {
   "cell_type": "markdown",
   "metadata": {
    "_uuid": "8f6a97d7683f622c7ed39aab51b0f5c18e22b263"
   },
   "source": [
    "Looking into the dataset we can now see the current representation post-processing, in both text form and numerical."
   ]
  },
  {
   "cell_type": "code",
   "execution_count": null,
   "metadata": {
    "_uuid": "6f613b4a36c92a7886732faac4b0558c637cad0d"
   },
   "outputs": [],
   "source": [
    "print(data.train_ds[0][0])\n",
    "print(data.train_ds[1][0])\n",
    "print(data.train_ds[2][0])"
   ]
  },
  {
   "cell_type": "code",
   "execution_count": null,
   "metadata": {
    "_uuid": "1b42d12d4e9b0c1d046d23a8881318de4daf6ff5"
   },
   "outputs": [],
   "source": [
    "print(data.train_ds[0][0].data[:10])\n",
    "print(data.train_ds[1][0].data[:10])\n",
    "print(data.train_ds[2][0].data[:10])"
   ]
  },
  {
   "cell_type": "markdown",
   "metadata": {
    "_uuid": "2f91e80464517fde3de71b048f015585212de95b"
   },
   "source": [
    "## Language Model"
   ]
  },
  {
   "cell_type": "markdown",
   "metadata": {
    "_uuid": "5b13610fc4e8f88b213f4299c1f567b06711a4e9"
   },
   "source": [
    "We'll be using a language model provided from the fastai library and applying the pre-calculated weights from wikitext-103. This will provide a word embedding scheme that aligns with the corpus of airline tweets and will hopefully capture sufficient \"meaning\" in each word. The language model here will not be optimal as tweets sometimes do not obey conventional spelling and grammar, especially hastags. "
   ]
  },
  {
   "cell_type": "code",
   "execution_count": null,
   "metadata": {
    "_uuid": "e59b3e84415ea26a2f2eb13ff9ab8d72d13c02da"
   },
   "outputs": [],
   "source": [
    "bs = 24\n",
    "seed = 333"
   ]
  },
  {
   "cell_type": "markdown",
   "metadata": {
    "_uuid": "577868658a845cb78ec6d2c182c7771865d58242"
   },
   "source": [
    "First we ingest the data once again but have a 10% holdout only since we'll be using it to calibrate the language model. "
   ]
  },
  {
   "cell_type": "code",
   "execution_count": null,
   "metadata": {
    "_uuid": "eb04883c5fa59017586d8b0b6bed910d9a519f6c"
   },
   "outputs": [],
   "source": [
    "data_lm = (TextList.from_csv('.', 'Tweets_text_only_train.csv')\n",
    "            .random_split_by_pct(0.1, seed = seed)\n",
    "           #We randomly split and keep 10% for validation\n",
    "            .label_for_lm()           \n",
    "           #We want to do a language model so we label accordingly\n",
    "            .databunch(bs=bs))\n",
    "data_lm.save('data_lm.pkl')"
   ]
  },
  {
   "cell_type": "code",
   "execution_count": null,
   "metadata": {
    "_uuid": "51adb9e8db647d136c8b071ff5280bf04bd74332"
   },
   "outputs": [],
   "source": [
    "# data_lm = load_data(path, 'data_lm.pkl', bs=bs)\n",
    "data_lm.show_batch()"
   ]
  },
  {
   "cell_type": "markdown",
   "metadata": {
    "_uuid": "e45e6b553721fe5b9f8cc9b91c05fccf0cb361e5"
   },
   "source": [
    "Now we define the language model and set the learning rates. "
   ]
  },
  {
   "cell_type": "code",
   "execution_count": null,
   "metadata": {
    "_uuid": "168da9047db23f4c73e325f40a736bad83868b04"
   },
   "outputs": [],
   "source": [
    "learn = language_model_learner(data_lm, AWD_LSTM, drop_mult=0.3)"
   ]
  },
  {
   "cell_type": "code",
   "execution_count": null,
   "metadata": {
    "_uuid": "9ec59c8b669394b16b104e22cb4bfb48ac6a5e4f"
   },
   "outputs": [],
   "source": [
    "learn.lr_find()"
   ]
  },
  {
   "cell_type": "code",
   "execution_count": null,
   "metadata": {
    "_uuid": "8d13823a8ec6e16826c27f29abc90e2a124b05e4"
   },
   "outputs": [],
   "source": [
    "learn.recorder.plot(skip_end=15)"
   ]
  },
  {
   "cell_type": "markdown",
   "metadata": {
    "_uuid": "4506084188a7f73e55b945108d76d55b8532a848"
   },
   "source": [
    "Next we fit the model for a few cycles by running 1 epoch and then unfreezing and running more epochs to fine tune.  "
   ]
  },
  {
   "cell_type": "code",
   "execution_count": null,
   "metadata": {
    "_uuid": "9499223dab7f3b70d30c9cfa456de509d5cb9e4e"
   },
   "outputs": [],
   "source": [
    "learn.fit_one_cycle(1, 1e-2, moms=(0.8,0.7))"
   ]
  },
  {
   "cell_type": "code",
   "execution_count": null,
   "metadata": {
    "_uuid": "591b84005a3cd666f2a8f5b2b01d5a5af764ca60"
   },
   "outputs": [],
   "source": [
    "learn.save('fit_head')\n",
    "# learn.load('fit_head')"
   ]
  },
  {
   "cell_type": "code",
   "execution_count": null,
   "metadata": {
    "_uuid": "0997782f35a4d3a9fd918377e370d68d2445b7f4"
   },
   "outputs": [],
   "source": [
    "learn.unfreeze()"
   ]
  },
  {
   "cell_type": "code",
   "execution_count": null,
   "metadata": {
    "_uuid": "7b07d74c4a9aed170c02f34edbb9f3b42fb7dc1b"
   },
   "outputs": [],
   "source": [
    "learn.fit_one_cycle(10, 1e-3, moms=(0.8,0.7))"
   ]
  },
  {
   "cell_type": "code",
   "execution_count": null,
   "metadata": {
    "_uuid": "ff336814fe0ec59ecc47b855118e655e21298fa5"
   },
   "outputs": [],
   "source": [
    "learn.save('fine_tuned')"
   ]
  },
  {
   "cell_type": "code",
   "execution_count": null,
   "metadata": {
    "_uuid": "fa1a27351f989101baa799cfc5601f0e31ec428a"
   },
   "outputs": [],
   "source": [
    "learn.save_encoder('fine_tuned_enc')"
   ]
  },
  {
   "cell_type": "markdown",
   "metadata": {
    "_uuid": "2ceac5b715627d84b53f3dc8ff367a713b279b06"
   },
   "source": [
    "The language model is a bit worse than I would have expected; this is likely due to the fact that tweets dont always follow proper English spelling and grammar, making it difficult for the model to correctly predict. "
   ]
  },
  {
   "cell_type": "markdown",
   "metadata": {
    "_uuid": "b28d1b50858cdede3bf149504b9bd30b8e6875f2"
   },
   "source": [
    "## Classifier"
   ]
  },
  {
   "cell_type": "markdown",
   "metadata": {
    "_uuid": "055671657bcf76f27717c00f4a5de19b5eddf6fe"
   },
   "source": [
    "Next we'll use the encoder from the language model in our classifier, which has a similar LSTM architecture but will predict the sentiment instead of the next word in a tweet. The model architecture here presents some advantages over traditional bags-of-words "
   ]
  },
  {
   "cell_type": "code",
   "execution_count": null,
   "metadata": {
    "_uuid": "50144a534af1fca350650121ed4c1a6d1c22376b"
   },
   "outputs": [],
   "source": [
    "data_clas = (TextList.from_csv('.', 'Tweets_filtered_train.csv', cols = 'text')               \n",
    "             .random_split_by_pct(0.1, seed = seed)\n",
    "             .label_from_df(cols=0)\n",
    "             .databunch(bs=bs))\n",
    "data_clas.save('data_clas.pkl')\n",
    "data_clas.show_batch()"
   ]
  },
  {
   "cell_type": "code",
   "execution_count": null,
   "metadata": {
    "_uuid": "da00b9c3c11ef567092e866c59635d8c3f5f8094"
   },
   "outputs": [],
   "source": [
    "learn = text_classifier_learner(data_clas, AWD_LSTM, drop_mult=0.5)\n",
    "learn.load_encoder('fine_tuned_enc')"
   ]
  },
  {
   "cell_type": "code",
   "execution_count": null,
   "metadata": {
    "_uuid": "3588b1b9187c1ac8bf02dc58cac6daa872cccde3"
   },
   "outputs": [],
   "source": [
    "learn.lr_find()"
   ]
  },
  {
   "cell_type": "code",
   "execution_count": null,
   "metadata": {
    "_uuid": "a85a44722e4976b69aaa497bc1fbf7e3f8cfa499"
   },
   "outputs": [],
   "source": [
    "learn.recorder.plot()"
   ]
  },
  {
   "cell_type": "markdown",
   "metadata": {
    "_uuid": "0f85bab506edd029007a95cda6916860e2c4a9c0"
   },
   "source": [
    "We train by gradually unfreezing layers and then running an epoch each time, in accordance with the suggestions in the ULMFiT paper."
   ]
  },
  {
   "cell_type": "code",
   "execution_count": null,
   "metadata": {
    "_uuid": "667ee3a18340c14dd08ab87a76fbdf569d6bd223"
   },
   "outputs": [],
   "source": [
    "learn.fit_one_cycle(1, 2e-2, moms=(0.8,0.7))"
   ]
  },
  {
   "cell_type": "code",
   "execution_count": null,
   "metadata": {
    "_uuid": "a2720ee5b3056c080bd22ffe64709aa8187b7809"
   },
   "outputs": [],
   "source": [
    "learn.save('first')\n",
    "# learn.load('first)"
   ]
  },
  {
   "cell_type": "code",
   "execution_count": null,
   "metadata": {
    "_uuid": "066ec9fa2a5a4d3d37e44c8648a06cf3e83404b8"
   },
   "outputs": [],
   "source": [
    "learn.freeze_to(-2)\n",
    "learn.fit_one_cycle(1, slice(1e-2/(2.6**4),1e-2), moms=(0.8,0.7))"
   ]
  },
  {
   "cell_type": "code",
   "execution_count": null,
   "metadata": {
    "_uuid": "6107a12891988eda610a53730036b49f5b0d0f2d"
   },
   "outputs": [],
   "source": [
    "learn.save('second')\n",
    "# learn.load('second')"
   ]
  },
  {
   "cell_type": "code",
   "execution_count": null,
   "metadata": {
    "_uuid": "c35a14796de0fa8da8dc11e37eb2b86742db1412"
   },
   "outputs": [],
   "source": [
    "learn.freeze_to(-3)\n",
    "learn.fit_one_cycle(1, slice(5e-3/(2.6**4),5e-3), moms=(0.8,0.7))"
   ]
  },
  {
   "cell_type": "code",
   "execution_count": null,
   "metadata": {
    "_uuid": "60939b1382efb58e5f333ad63bbd022a7b5f075c"
   },
   "outputs": [],
   "source": [
    "learn.unfreeze()\n",
    "learn.fit_one_cycle(3, slice(1e-3/(2.6**4),1e-3), moms=(0.8,0.7))"
   ]
  },
  {
   "cell_type": "markdown",
   "metadata": {
    "_uuid": "480f552d5de6dc7afdb0a3497d1c837fe28e04f5"
   },
   "source": [
    "### Evaluate Performance on Test Set"
   ]
  },
  {
   "cell_type": "code",
   "execution_count": null,
   "metadata": {
    "_uuid": "39bf18fc85a5ded5990a8991b8f73fff40fa7843"
   },
   "outputs": [],
   "source": [
    "test_df = pd.read_csv(\"Tweets_filtered_test.csv\", encoding=\"utf-8\")\n",
    "test_df['airline_sentiment'].value_counts().plot(kind='bar')"
   ]
  },
  {
   "cell_type": "code",
   "execution_count": null,
   "metadata": {
    "_uuid": "a7b63f6e41cbe2acb966e6d5bcf435b1444968b2"
   },
   "outputs": [],
   "source": [
    "test_df['pred_sentiment'] = test_df['text'].apply(lambda row: str(learn.predict(row)[0]))\n",
    "print(\"Test Accuracy: \", accuracy_score(test_df['airline_sentiment'], test_df['pred_sentiment']))"
   ]
  },
  {
   "cell_type": "code",
   "execution_count": null,
   "metadata": {
    "_uuid": "6516627de2dfa24b6f606adc5da53d826e2c879e"
   },
   "outputs": [],
   "source": [
    "test_df[:20]"
   ]
  },
  {
   "cell_type": "markdown",
   "metadata": {
    "_uuid": "57beee8541dda946b417f4d9892d2301969ae58c"
   },
   "source": [
    "Plot confusion matrix to see where the areas of misclassification are. "
   ]
  },
  {
   "cell_type": "code",
   "execution_count": null,
   "metadata": {
    "_uuid": "b9f8e30a2bf5d237cfe6c1f9496ab913bebb5de2"
   },
   "outputs": [],
   "source": [
    "# Confusion matrix plotting adapted from https://scikit-learn.org/stable/auto_examples/model_selection/plot_confusion_matrix.html#sphx-glr-auto-examples-model-selection-plot-confusion-matrix-py\n",
    "def plot_confusion_matrix(y_true, y_pred, classes,\n",
    "                          normalize=False,\n",
    "                          title=None,\n",
    "                          cmap=plt.cm.Blues):\n",
    "    \"\"\"\n",
    "    This function prints and plots the confusion matrix.\n",
    "    Normalization can be applied by setting `normalize=True`.\n",
    "    \"\"\"\n",
    "    if not title:\n",
    "        if normalize:\n",
    "            title = 'Normalized confusion matrix'\n",
    "        else:\n",
    "            title = 'Confusion matrix, without normalization'\n",
    "\n",
    "    # Compute confusion matrix\n",
    "    cm = confusion_matrix(y_true, y_pred)\n",
    "    # Only use the labels that appear in the data\n",
    "    #classes = classes[unique_labels(y_true, y_pred)]\n",
    "\n",
    "    fig, ax = plt.subplots()\n",
    "    im = ax.imshow(cm, interpolation='nearest', cmap=cmap)\n",
    "    ax.figure.colorbar(im, ax=ax)\n",
    "    # We want to show all ticks...\n",
    "    ax.set(xticks=np.arange(cm.shape[1]),\n",
    "           yticks=np.arange(cm.shape[0]),\n",
    "           # ... and label them with the respective list entries\n",
    "           xticklabels=classes, yticklabels=classes,\n",
    "           title=title,\n",
    "           ylabel='True label',\n",
    "           xlabel='Predicted label')\n",
    "\n",
    "    # Rotate the tick labels and set their alignment.\n",
    "    plt.setp(ax.get_xticklabels(), rotation=45, ha=\"right\",\n",
    "             rotation_mode=\"anchor\")\n",
    "\n",
    "    # Loop over data dimensions and create text annotations.\n",
    "    fmt = '.2f' if normalize else 'd'\n",
    "    thresh = cm.max() / 2.\n",
    "    for i in range(cm.shape[0]):\n",
    "        for j in range(cm.shape[1]):\n",
    "            ax.text(j, i, format(cm[i, j], fmt),\n",
    "                    ha=\"center\", va=\"center\",\n",
    "                    color=\"white\" if cm[i, j] > thresh else \"black\")\n",
    "    fig.tight_layout()\n",
    "    return ax"
   ]
  },
  {
   "cell_type": "code",
   "execution_count": null,
   "metadata": {
    "_uuid": "2d9d8f505912f65f5e6dc9fc72494f8657204988"
   },
   "outputs": [],
   "source": [
    "plot_confusion_matrix(test_df['airline_sentiment'], test_df['pred_sentiment'], classes=['negative', 'neutral', 'positive'], title='Airline sentiment confusion matrix')\n",
    "# confusion_matrix(test_df['airline_sentiment'], test_df['pred_sentiment'], labels=['positive', 'neutral', 'negative'])\n",
    "plt.show()"
   ]
  },
  {
   "cell_type": "markdown",
   "metadata": {
    "_uuid": "d2494f9841d3bf6ddec89e0ce13478c79d5f7554"
   },
   "source": [
    "From the confusion matrix, we can see that within True Negatives, the prediction accuracy is pretty high. The model has a very hard time classifying neutral tweets, and often misclassifies them as negative. For True Positives, the overall accuracy is pretty good but a surprisingly large number get classified as negative. Let's look at these in closer detail:"
   ]
  },
  {
   "cell_type": "code",
   "execution_count": null,
   "metadata": {
    "_uuid": "d3d5c67cefb1ea4f932a43dca44665ef65e7243f"
   },
   "outputs": [],
   "source": [
    "test_df.loc[(test_df['airline_sentiment'] == 'positive') & (test_df['pred_sentiment'] == 'negative')]"
   ]
  },
  {
   "cell_type": "markdown",
   "metadata": {
    "_uuid": "c62aa7f9e39908a1455ac0af361d664d54c0e8d8"
   },
   "source": [
    "It's not immediately clear what the common thread that led these tweets to be mislabelled but possible causes include missing signals from hastags, non-grammatical sentences, mis-spellings, etc. which generally contribute to the classification error. \n",
    "\n",
    "In the future, it would be good to spend more time on feature engineering and fitting the language model so that it's more suited to the vocabulary and style of language that is in tweets. From the language model and processing steps, we can see that the model accuracy is not very high and that, even as humans, it's hard to discern the sentiment from the post-processed / tokenized text. One possible way of addressing this issue is to use a much larger corpus of tweets when developing the language model. "
   ]
  }
 ],
 "metadata": {
  "kernelspec": {
   "display_name": "Python 3",
   "language": "python",
   "name": "python3"
  },
  "language_info": {
   "codemirror_mode": {
    "name": "ipython",
    "version": 3
   },
   "file_extension": ".py",
   "mimetype": "text/x-python",
   "name": "python",
   "nbconvert_exporter": "python",
   "pygments_lexer": "ipython3",
   "version": "3.6.10"
  }
 },
 "nbformat": 4,
 "nbformat_minor": 1
}
